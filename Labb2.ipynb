{
 "cells": [
  {
   "cell_type": "code",
   "execution_count": 17,
   "metadata": {},
   "outputs": [
    {
     "name": "stdout",
     "output_type": "stream",
     "text": [
      "Connecting to database using URL string:\n",
      "mssql+pyodbc://?odbc_connect=DRIVER=ODBC+Driver+17+for+SQL+Server;SERVER=localhost;DATABASE=lab2;UID=sa;PWD=reallyStrongPwd123 \n",
      "\n",
      "Successfully connected to lab2!\n"
     ]
    }
   ],
   "source": [
    "from sqlalchemy import create_engine, text\n",
    "from sqlalchemy.engine import URL\n",
    "from tabulate import tabulate\n",
    "from urllib.parse import unquote\n",
    "\n",
    "server_name   = \"localhost\"\n",
    "database_name = \"lab2\"\n",
    "username = 'sa'\n",
    "password='reallyStrongPwd123'\n",
    "\n",
    "\n",
    "connection_string = f\"DRIVER=ODBC Driver 17 for SQL Server;SERVER={server_name};DATABASE={database_name};UID={username};PWD={password}\"\n",
    "url_string = URL.create(\"mssql+pyodbc\", query={\"odbc_connect\": connection_string})\n",
    "\n",
    "print('Connecting to database using URL string:')\n",
    "unquoted_url = unquote(str(url_string))\n",
    "print(unquoted_url, '\\n')\n",
    "\n",
    "try:    \n",
    "    engine = create_engine(url_string)\n",
    "    with engine.connect() as connection:\n",
    "        print(f'Successfully connected to {database_name}!')\n",
    "except Exception as e:\n",
    "    print('Error while connecting to database:\\n')\n",
    "    print(e)"
   ]
  },
  {
   "cell_type": "code",
   "execution_count": 38,
   "metadata": {},
   "outputs": [
    {
     "name": "stdout",
     "output_type": "stream",
     "text": [
      "Book Title: To Kill a Mockingbird, StoreID: 1, StoreName: Book Haven, quantity: 20\n"
     ]
    }
   ],
   "source": [
    "def search_books(search_term, connection):\n",
    "    query = text(\"\"\"\n",
    "    SELECT b.Title, inv.StoreID, st.StoreName, inv.Quantity\n",
    "    FROM Books b\n",
    "    JOIN Inventory inv ON b.ISBN13 = inv.ISBN\n",
    "    JOIN Store st ON inv.StoreID = st.ID\n",
    "    WHERE b.Title \n",
    "    LIKE :search_term\n",
    "    \"\"\")\n",
    "    results = connection.execute(query, {'search_term': f'%{search_term}%'}).fetchall()\n",
    "\n",
    "    return results\n",
    "\n",
    "search_term = input(\"Search for title: \").strip()\n",
    "\n",
    "if search_term:\n",
    "    with engine.connect() as connection:\n",
    "        results = search_books(search_term, connection)\n",
    "        for result in results:\n",
    "            print(f\"Book Title: {result.Title}, StoreID: {result.StoreID}, StoreName: {result.StoreName}, quantity: {result.Quantity}\")\n",
    "else:\n",
    "    print(\"No search title written. Terminating program\")\n"
   ]
  },
  {
   "cell_type": "code",
   "execution_count": 39,
   "metadata": {},
   "outputs": [
    {
     "name": "stdout",
     "output_type": "stream",
     "text": [
      "Harper Lee\n",
      "George Orwell\n",
      "Gabriel Garcia Marquez\n",
      "Jane Austen\n",
      "Oscar Wilde\n",
      "Stephen King\n",
      "Karin Boye\n"
     ]
    }
   ],
   "source": [
    "from sqlalchemy import text\n",
    "\n",
    "query2 = text(\"Select * from Author\")\n",
    "type(query2)\n",
    "\n",
    "with engine.connect() as conn:\n",
    "    result = conn.execute(query2)\n",
    "\n",
    "    for row in result:\n",
    "        print(f\"{row.FirstName} {row.LastName}\")"
   ]
  },
  {
   "cell_type": "code",
   "execution_count": 42,
   "metadata": {},
   "outputs": [
    {
     "name": "stdout",
     "output_type": "stream",
     "text": [
      "Book Haven 123 Main St\n",
      "Page Turner Books 456 Elm St\n",
      "The Reading Nook 789 Oak St\n"
     ]
    }
   ],
   "source": [
    "query3= text(\"Select StoreName, StoreAddress from Store\")\n",
    "type(query3)\n",
    "\n",
    "with engine.connect() as conn:\n",
    "    result = conn.execute(query3)\n",
    "\n",
    "    for row in result:\n",
    "        print(f\"{row.StoreName} {row.StoreAddress}\")"
   ]
  }
 ],
 "metadata": {
  "kernelspec": {
   "display_name": "Databases-X_xHK0EK",
   "language": "python",
   "name": "python3"
  },
  "language_info": {
   "codemirror_mode": {
    "name": "ipython",
    "version": 3
   },
   "file_extension": ".py",
   "mimetype": "text/x-python",
   "name": "python",
   "nbconvert_exporter": "python",
   "pygments_lexer": "ipython3",
   "version": "3.9.13"
  },
  "orig_nbformat": 4
 },
 "nbformat": 4,
 "nbformat_minor": 2
}
